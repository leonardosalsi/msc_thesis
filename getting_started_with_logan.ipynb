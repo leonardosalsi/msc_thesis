{
 "cells": [
  {
   "cell_type": "code",
   "execution_count": 6,
   "id": "0a029e90-0daa-488f-95a5-64986366f60d",
   "metadata": {},
   "outputs": [],
   "source": [
    "import os\n",
    "import sys\n",
    "import glob\n",
    "from io import StringIO\n",
    "from concurrent.futures import ProcessPoolExecutor\n",
    "\n",
    "import numpy as np\n",
    "import pandas as pd\n",
    "import torch\n",
    "import zstandard\n",
    "from tqdm import tqdm\n",
    "from pyfaidx import Fasta\n",
    "from Bio import SeqIO\n",
    "from dnaHMM import dnaHMM\n",
    "import plotnine as p9"
   ]
  },
  {
   "cell_type": "code",
   "execution_count": 3,
   "id": "401b6247-96d6-4ba5-aeae-9d20237cebb1",
   "metadata": {},
   "outputs": [
    {
     "name": "stdout",
     "output_type": "stream",
     "text": [
      "-rw-r----- 1 knonchev INFK-Raetsch-Collab    8261157 Jan 22 17:05 \u001b[01;31mdata/ERR1738359.contigs.fa.zst\u001b[0m\n",
      "-rw-r----- 1 knonchev INFK-Raetsch-Collab      98497 Jan 22 17:05 \u001b[01;31mdata/ERR1875855.contigs.fa.zst\u001b[0m\n",
      "-rw-r----- 1 knonchev INFK-Raetsch-Collab    3786929 Jan 22 17:05 \u001b[01;31mdata/ERR1938089.contigs.fa.zst\u001b[0m\n",
      "-rw-r----- 1 knonchev INFK-Raetsch-Collab     625470 Jan 22 17:05 \u001b[01;31mdata/ERR1950831.contigs.fa.zst\u001b[0m\n",
      "-rw-r----- 1 knonchev INFK-Raetsch-Collab  721547668 Jan 22 17:05 \u001b[01;31mdata/ERR1976343.contigs.fa.zst\u001b[0m\n"
     ]
    }
   ],
   "source": [
    "ls -al data/* | tail -n 5"
   ]
  },
  {
   "cell_type": "code",
   "execution_count": 10,
   "id": "909c3c56-61bb-4722-b0ae-86388c6748e9",
   "metadata": {},
   "outputs": [
    {
     "data": {
      "text/html": [
       "<div>\n",
       "<style scoped>\n",
       "    .dataframe tbody tr th:only-of-type {\n",
       "        vertical-align: middle;\n",
       "    }\n",
       "\n",
       "    .dataframe tbody tr th {\n",
       "        vertical-align: top;\n",
       "    }\n",
       "\n",
       "    .dataframe thead th {\n",
       "        text-align: right;\n",
       "    }\n",
       "</style>\n",
       "<table border=\"1\" class=\"dataframe\">\n",
       "  <thead>\n",
       "    <tr style=\"text-align: right;\">\n",
       "      <th></th>\n",
       "      <th>acc</th>\n",
       "      <th>kingdom</th>\n",
       "      <th>organism</th>\n",
       "      <th>organism_kmeans</th>\n",
       "      <th>mbases</th>\n",
       "    </tr>\n",
       "  </thead>\n",
       "  <tbody>\n",
       "    <tr>\n",
       "      <th>0</th>\n",
       "      <td>SRR11413904</td>\n",
       "      <td>Fungi</td>\n",
       "      <td>Zymoseptoria tritici IPO323</td>\n",
       "      <td>173</td>\n",
       "      <td>2342.0</td>\n",
       "    </tr>\n",
       "    <tr>\n",
       "      <th>1</th>\n",
       "      <td>SRR14510856</td>\n",
       "      <td>Viridiplantae</td>\n",
       "      <td>Elaeis oleifera</td>\n",
       "      <td>175</td>\n",
       "      <td>330.0</td>\n",
       "    </tr>\n",
       "    <tr>\n",
       "      <th>2</th>\n",
       "      <td>SRR13694312</td>\n",
       "      <td>Viridiplantae</td>\n",
       "      <td>Lactuca saligna</td>\n",
       "      <td>247</td>\n",
       "      <td>43070.0</td>\n",
       "    </tr>\n",
       "    <tr>\n",
       "      <th>3</th>\n",
       "      <td>ERR615301</td>\n",
       "      <td>Viridiplantae</td>\n",
       "      <td>Oryza sativa</td>\n",
       "      <td>6</td>\n",
       "      <td>204.0</td>\n",
       "    </tr>\n",
       "    <tr>\n",
       "      <th>4</th>\n",
       "      <td>ERR7412375</td>\n",
       "      <td>Viridiplantae</td>\n",
       "      <td>Ambrosia artemisiifolia</td>\n",
       "      <td>239</td>\n",
       "      <td>6867.0</td>\n",
       "    </tr>\n",
       "    <tr>\n",
       "      <th>...</th>\n",
       "      <td>...</td>\n",
       "      <td>...</td>\n",
       "      <td>...</td>\n",
       "      <td>...</td>\n",
       "      <td>...</td>\n",
       "    </tr>\n",
       "    <tr>\n",
       "      <th>24995</th>\n",
       "      <td>SRR7630445</td>\n",
       "      <td>Fungi</td>\n",
       "      <td>Parastagonospora nodorum</td>\n",
       "      <td>359</td>\n",
       "      <td>2776.0</td>\n",
       "    </tr>\n",
       "    <tr>\n",
       "      <th>24996</th>\n",
       "      <td>SRR5042517</td>\n",
       "      <td>Viridiplantae</td>\n",
       "      <td>Cynodon dactylon x Cynodon transvaalensis</td>\n",
       "      <td>404</td>\n",
       "      <td>407.0</td>\n",
       "    </tr>\n",
       "    <tr>\n",
       "      <th>24997</th>\n",
       "      <td>SRR11106753</td>\n",
       "      <td>Viridiplantae</td>\n",
       "      <td>Zea mays subsp. mays</td>\n",
       "      <td>103</td>\n",
       "      <td>12020.0</td>\n",
       "    </tr>\n",
       "    <tr>\n",
       "      <th>24998</th>\n",
       "      <td>SRR17421512</td>\n",
       "      <td>Viridiplantae</td>\n",
       "      <td>Ceratonia siliqua</td>\n",
       "      <td>229</td>\n",
       "      <td>46.0</td>\n",
       "    </tr>\n",
       "    <tr>\n",
       "      <th>24999</th>\n",
       "      <td>ERR713956</td>\n",
       "      <td>NaN</td>\n",
       "      <td>Plasmodium vivax</td>\n",
       "      <td>28</td>\n",
       "      <td>1297.0</td>\n",
       "    </tr>\n",
       "  </tbody>\n",
       "</table>\n",
       "<p>25000 rows × 5 columns</p>\n",
       "</div>"
      ],
      "text/plain": [
       "               acc        kingdom                                   organism  \\\n",
       "0      SRR11413904          Fungi                Zymoseptoria tritici IPO323   \n",
       "1      SRR14510856  Viridiplantae                            Elaeis oleifera   \n",
       "2      SRR13694312  Viridiplantae                            Lactuca saligna   \n",
       "3        ERR615301  Viridiplantae                               Oryza sativa   \n",
       "4       ERR7412375  Viridiplantae                    Ambrosia artemisiifolia   \n",
       "...            ...            ...                                        ...   \n",
       "24995   SRR7630445          Fungi                   Parastagonospora nodorum   \n",
       "24996   SRR5042517  Viridiplantae  Cynodon dactylon x Cynodon transvaalensis   \n",
       "24997  SRR11106753  Viridiplantae                       Zea mays subsp. mays   \n",
       "24998  SRR17421512  Viridiplantae                          Ceratonia siliqua   \n",
       "24999    ERR713956            NaN                           Plasmodium vivax   \n",
       "\n",
       "       organism_kmeans   mbases  \n",
       "0                  173   2342.0  \n",
       "1                  175    330.0  \n",
       "2                  247  43070.0  \n",
       "3                    6    204.0  \n",
       "4                  239   6867.0  \n",
       "...                ...      ...  \n",
       "24995              359   2776.0  \n",
       "24996              404    407.0  \n",
       "24997              103  12020.0  \n",
       "24998              229     46.0  \n",
       "24999               28   1297.0  \n",
       "\n",
       "[25000 rows x 5 columns]"
      ]
     },
     "execution_count": 10,
     "metadata": {},
     "output_type": "execute_result"
    }
   ],
   "source": [
    "# Each 'acc' represents a contig file containing available sequences.\n",
    "# 'organism_kmeans' is a meta label used to represent different groups of organisms.\n",
    "# there are 500 organism_kmeans labels\n",
    "# For each 'organism_kmeans' group, we sample 50 contigs.\n",
    "metadata = pd.read_csv(\"data/eukaryota_genomics_500_50_2025-01-22_15-14-40.csv\")\n",
    "metadata"
   ]
  },
  {
   "cell_type": "code",
   "execution_count": 12,
   "id": "89f0bee1-c166-44c5-a212-9bd78797dcde",
   "metadata": {},
   "outputs": [
    {
     "name": "stdout",
     "output_type": "stream",
     "text": [
      "173 ['Zymoseptoria tritici IPO323' 'Zymoseptoria tritici'\n",
      " 'Zymoseptoria tritici STIR04_A26b']\n",
      "175 ['Elaeis oleifera' 'Elaeis guineensis' 'Elaeis']\n",
      "247 ['Lactuca saligna' 'Lactuca serriola' 'Lactuca sativa' 'Lactuca georgica'\n",
      " 'Lactuca virosa' 'Lactuca biennis' 'Lactuca sativa x Lactuca serriola'\n",
      " 'Lactuca perennis' 'Lactuca dregeana' 'Lactuca altaica']\n",
      "6 ['Oryza sativa']\n",
      "239 ['Ambrosia artemisiifolia']\n",
      "338 ['Verticillium dahliae' 'Verticillium dahliae VDG1']\n",
      "36 ['Apis mellifera' 'Apis mellifera capensis'\n",
      " 'Apis mellifera capensis x Apis mellifera scutellata'\n",
      " 'Apis mellifera mellifera']\n",
      "18 ['Gallus gallus' 'Gallus gallus gallus' 'Gallus']\n",
      "424 ['Alces alces' 'Alces americanus' 'Alces alces shirasi']\n",
      "95 ['Drosophila nasuta x Drosophila albomicans' 'Drosophila albomicans'\n",
      " 'Drosophila nasuta']\n"
     ]
    }
   ],
   "source": [
    "for cl in list(metadata[\"organism_kmeans\"].unique())[:10]:\n",
    "    print(cl, metadata.query(f\"organism_kmeans == {cl}\").organism.unique())"
   ]
  },
  {
   "cell_type": "code",
   "execution_count": 9,
   "id": "023c57a1-0e16-4b6c-a5dd-1c5c0dee4a4c",
   "metadata": {},
   "outputs": [],
   "source": [
    "#### Loading functions"
   ]
  },
  {
   "cell_type": "code",
   "execution_count": 13,
   "id": "2f648e8f-0fb6-452f-aed3-e03cf93046dc",
   "metadata": {},
   "outputs": [],
   "source": [
    "### load sequences from the contig file\n",
    "def fasta_parsing_func(fasta_path):\n",
    "    \n",
    "    with open(fasta_path, \"rb\") as f:\n",
    "        data = f.read()\n",
    "\n",
    "    dctx = zstandard.ZstdDecompressor()\n",
    "    data = dctx.decompress(data)\n",
    "    \n",
    "    if data is None:\n",
    "        return [[]]\n",
    "        \n",
    "    sequences = []\n",
    "    decoded_lines = data.decode() # .split(\"\\n\")\n",
    "    \n",
    "    for s in tqdm(SeqIO.parse(StringIO(decoded_lines), \"fasta\")):\n",
    "        s = str(s.seq)\n",
    "        s = \"\".join([c for c in s if c in ALPHABET]) # make sure only ALPHABET\n",
    "        s = chop_at_first_repeated_kmer(s, KMER)\n",
    "        yield s"
   ]
  },
  {
   "cell_type": "code",
   "execution_count": 14,
   "id": "08743e36-0c00-4387-8e2b-92cb0bffff51",
   "metadata": {},
   "outputs": [],
   "source": [
    "from tqdm import tqdm\n",
    "from collections import defaultdict\n",
    "\n",
    "ALPHABET = {\"A\", \"T\", \"C\", \"G\"}\n",
    "KMER = 31\n",
    "MAX_SEQ_LENGTH = 2048\n",
    "\n",
    "\n",
    "# Function to chop the sequence at the first repeated k-mer\n",
    "def chop_at_first_repeated_kmer(sequence, k):\n",
    "    kmers = set()\n",
    "    for i in range(len(sequence) - k + 1):\n",
    "        kmer = sequence[i:i+k]\n",
    "        if kmer in kmers:\n",
    "            return sequence[:i + k - 1]\n",
    "        kmers.add(kmer)\n",
    "    return sequence  # No repeated k-mers found, return the whole sequence\n",
    "\n",
    "# Reconstruct assembly graph\n",
    "def find_overlaps_and_build_graph(sequences, k_mer=3):\n",
    "    min_overlap = k_mer - 1\n",
    "    prefix_dict = defaultdict(list)\n",
    "    \n",
    "    # Precompute the suffixes\n",
    "    for i, seq in enumerate(sequences):\n",
    "        prefix_dict[seq[:min_overlap]].append(i)\n",
    "\n",
    "    graph = defaultdict(list)\n",
    "\n",
    "    # Check for overlaps\n",
    "    for i, seq1 in tqdm(enumerate(sequences), total=len(sequences)):\n",
    "        seq1_suffix = seq1[-min_overlap:]\n",
    "        graph[i] = []\n",
    "        for j in prefix_dict[seq1_suffix]:\n",
    "            if i != j:\n",
    "                graph[i].append(j)\n",
    "\n",
    "    return graph\n",
    "\n",
    "# Perform random walk on the graph\n",
    "def dfs_paths(graph, start, path=None, all_paths=None, depth=10):\n",
    "    if path is None:\n",
    "        path = [start]  # Initialize the path with the starting node\n",
    "    if all_paths is None:\n",
    "        all_paths = []  # Initialize the list to store all paths\n",
    "\n",
    "    # If we revisit a node in the current path, it's a cycle, so we stop\n",
    "    if start in path[:-1]:\n",
    "        all_paths.append(path[:-1])\n",
    "        return all_paths\n",
    "\n",
    "    # Check if the current node is a leaf (no neighbors)\n",
    "    if start not in graph or not graph[start]:\n",
    "        all_paths.append(path)  # Add the current path as a complete path\n",
    "        return all_paths\n",
    "        \n",
    "    if len(path) >= depth:\n",
    "        all_paths.append(path)\n",
    "        return all_paths\n",
    "    # Explore each neighbor recursively, ensuring no cycles\n",
    "    for neighbor in graph[start]:\n",
    "        dfs_paths(graph, neighbor, path + [neighbor], all_paths)\n",
    "\n",
    "    return all_paths\n",
    "\n",
    "def random_walk_graph_sequences(graph, sequences):\n",
    "    random_walk_sequences = []\n",
    "    for node in tqdm(graph):\n",
    "        paths = dfs_paths(graph, node)\n",
    "        idx = np.random.randint(len(paths))\n",
    "        path = paths[idx]\n",
    "        seq = sequences[path[0]] + \"\".join([sequences[p][KMER-1:] for p in path[1:]])\n",
    "        seq = seq[:MAX_SEQ_LENGTH]\n",
    "        random_walk_sequences.append(seq)\n",
    "    return random_walk_sequences"
   ]
  },
  {
   "cell_type": "code",
   "execution_count": null,
   "id": "a6c093a6-3855-492d-8b21-2109aec7ea39",
   "metadata": {},
   "outputs": [],
   "source": []
  },
  {
   "cell_type": "code",
   "execution_count": null,
   "id": "2eb01df0-924e-4135-817d-80fdabaac688",
   "metadata": {},
   "outputs": [],
   "source": [
    "# EXAMPLE\n",
    "\n",
    "contig_file = \"data/ERR1738359.contigs.fa.zst\""
   ]
  },
  {
   "cell_type": "code",
   "execution_count": 16,
   "id": "d7ee6283-204b-4254-a14e-9258b216e12b",
   "metadata": {},
   "outputs": [
    {
     "name": "stderr",
     "output_type": "stream",
     "text": [
      "152127it [00:06, 22512.74it/s]\n"
     ]
    },
    {
     "data": {
      "text/plain": [
       "'AAAAAAAAAAAAAAAAAAAAAAAATCAAAATAATC'"
      ]
     },
     "execution_count": 16,
     "metadata": {},
     "output_type": "execute_result"
    }
   ],
   "source": [
    "# RAW SEQUENCES\n",
    "\n",
    "sequences = np.array(list(fasta_parsing_func(contig_file)))\n",
    "sequences[0]"
   ]
  },
  {
   "cell_type": "code",
   "execution_count": 17,
   "id": "87828955-68b3-42fb-8742-d055d26562f3",
   "metadata": {},
   "outputs": [
    {
     "name": "stderr",
     "output_type": "stream",
     "text": [
      "100%|██████████| 152127/152127 [00:01<00:00, 102638.31it/s]\n"
     ]
    }
   ],
   "source": [
    "graph = find_overlaps_and_build_graph(sequences, KMER)"
   ]
  },
  {
   "cell_type": "code",
   "execution_count": 18,
   "id": "8bbbe771-bbf1-4c3c-b275-d3b98dd6043c",
   "metadata": {},
   "outputs": [
    {
     "name": "stderr",
     "output_type": "stream",
     "text": [
      "100%|██████████| 152127/152127 [00:04<00:00, 34288.73it/s]\n"
     ]
    },
    {
     "data": {
      "text/plain": [
       "'AAAAAAAAAAAAAAAAAAAAAAAATCAAAATAATCA'"
      ]
     },
     "execution_count": 18,
     "metadata": {},
     "output_type": "execute_result"
    }
   ],
   "source": [
    "# SEQUENCES AFTER RANDOM WALK PERFROMED TO EXTEND THEIR LENGTH\n",
    "# LIKELY THIS SHOULD BE USED FOR TRAINING\n",
    "# tbd filter short sequences\n",
    "# tbd shuffle sequences\n",
    "random_walk_sequences = random_walk_graph_sequences(graph, sequences)\n",
    "random_walk_sequences[0]"
   ]
  },
  {
   "cell_type": "code",
   "execution_count": null,
   "id": "4711634a-6d12-4565-b7ca-6690726fb8c8",
   "metadata": {},
   "outputs": [],
   "source": []
  }
 ],
 "metadata": {
  "kernelspec": {
   "display_name": "nonchev",
   "language": "python",
   "name": "nonchev"
  },
  "language_info": {
   "codemirror_mode": {
    "name": "ipython",
    "version": 3
   },
   "file_extension": ".py",
   "mimetype": "text/x-python",
   "name": "python",
   "nbconvert_exporter": "python",
   "pygments_lexer": "ipython3",
   "version": "3.9.18"
  }
 },
 "nbformat": 4,
 "nbformat_minor": 5
}
